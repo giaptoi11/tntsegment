{
 "cells": [
  {
   "cell_type": "code",
   "execution_count": 1,
   "metadata": {},
   "outputs": [],
   "source": [
    "# arrange an instance segmentation model for test\n",
    "from sahi.utils.yolov8 import (\n",
    "    download_yolov8s_model, download_yolov8s_seg_model\n",
    ")\n",
    "from sahi import AutoDetectionModel\n",
    "from sahi.utils.cv import read_image\n",
    "from sahi.utils.file import download_from_url\n",
    "from sahi.predict import get_prediction, get_sliced_prediction, predict\n",
    "from IPython.display import Image"
   ]
  },
  {
   "cell_type": "code",
   "execution_count": 15,
   "metadata": {},
   "outputs": [
    {
     "data": {
      "text/plain": [
       "[[320, 321, 382, 362],\n",
       " [447, 309, 496, 341],\n",
       " [602, 238, 628, 259],\n",
       " [699, 233, 710, 251],\n",
       " [832, 308, 873, 342],\n",
       " [381, 279, 418, 303],\n",
       " [521, 224, 544, 241],\n",
       " [542, 234, 564, 251],\n",
       " [758, 231, 779, 248],\n",
       " [618, 203, 639, 220],\n",
       " [784, 208, 799, 220],\n",
       " [656, 203, 670, 213],\n",
       " [766, 260, 793, 282],\n",
       " [719, 242, 747, 271]]"
      ]
     },
     "execution_count": 15,
     "metadata": {},
     "output_type": "execute_result"
    }
   ],
   "source": [
    "boxes"
   ]
  },
  {
   "cell_type": "code",
   "execution_count": null,
   "metadata": {},
   "outputs": [],
   "source": []
  }
 ],
 "metadata": {
  "kernelspec": {
   "display_name": "tntseg",
   "language": "python",
   "name": "python3"
  },
  "language_info": {
   "codemirror_mode": {
    "name": "ipython",
    "version": 3
   },
   "file_extension": ".py",
   "mimetype": "text/x-python",
   "name": "python",
   "nbconvert_exporter": "python",
   "pygments_lexer": "ipython3",
   "version": "3.9.18"
  }
 },
 "nbformat": 4,
 "nbformat_minor": 2
}
